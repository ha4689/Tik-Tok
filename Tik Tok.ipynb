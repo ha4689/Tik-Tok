{
  "metadata": {
    "colab": {
      "provenance": [],
      "toc_visible": true
    },
    "kernelspec": {
      "name": "python",
      "display_name": "Python (Pyodide)",
      "language": "python"
    },
    "language_info": {
      "codemirror_mode": {
        "name": "python",
        "version": 3
      },
      "file_extension": ".py",
      "mimetype": "text/x-python",
      "name": "python",
      "nbconvert_exporter": "python",
      "pygments_lexer": "ipython3",
      "version": "3.8"
    }
  },
  "nbformat_minor": 4,
  "nbformat": 4,
  "cells": [
    {
      "cell_type": "markdown",
      "source": "# **TikTok Project**\n",
      "metadata": {
        "id": "DtNBZFHO3M7n"
      }
    },
    {
      "cell_type": "markdown",
      "source": "### Install, Import Modules, Load Data",
      "metadata": {
        "id": "SKur6gTPRcvy"
      }
    },
    {
      "cell_type": "code",
      "source": "# Install seaborn\n%pip install seaborn\n\n# Import packages for data manipulation\nimport numpy as np\nimport pandas as pd\n\n# Import packages for data visualization\nimport seaborn as sns\nimport matplotlib.pyplot as plt",
      "metadata": {
        "id": "EO8vKZI8x8GF",
        "trusted": true
      },
      "execution_count": null,
      "outputs": []
    },
    {
      "cell_type": "code",
      "source": "# Load dataset into dataframe\ndf = pd.read_csv(\"tiktok_dataset.csv\")",
      "metadata": {
        "id": "w7XSDxoqyF9D",
        "trusted": true
      },
      "execution_count": null,
      "outputs": []
    },
    {
      "cell_type": "markdown",
      "source": "### **Data exploration and cleaning**\n\nUse functions that help understand and structure the data.\n\n*    `.head()`\n*    `.info()`\n*    `.describe()`\n*    `.size`\n*    `.shape`",
      "metadata": {
        "id": "n09krlKWRw_2"
      }
    },
    {
      "cell_type": "code",
      "source": "# Display and examine the first few rows of the dataframe\ndf.head()",
      "metadata": {
        "id": "cBOUo5p-tbib",
        "trusted": true
      },
      "execution_count": null,
      "outputs": []
    },
    {
      "cell_type": "code",
      "source": "# Get the size of the data\ndf.size",
      "metadata": {
        "id": "GvT82D1qyF9F",
        "trusted": true
      },
      "execution_count": null,
      "outputs": []
    },
    {
      "cell_type": "code",
      "source": "# Get the shape of the data\ndf.shape",
      "metadata": {
        "id": "ZMVCmsoMvCEm",
        "trusted": true
      },
      "execution_count": null,
      "outputs": []
    },
    {
      "cell_type": "code",
      "source": "# Get basic information about the data\ndf.info()",
      "metadata": {
        "id": "Thlb8oiyUPwe",
        "trusted": true
      },
      "execution_count": null,
      "outputs": []
    },
    {
      "cell_type": "code",
      "source": "# Generate a table of descriptive statistics\ndf.describe()",
      "metadata": {
        "id": "xMpkdNQ0UPmW",
        "trusted": true
      },
      "execution_count": null,
      "outputs": []
    },
    {
      "cell_type": "markdown",
      "source": "### **Build visualizations**\n\n",
      "metadata": {
        "id": "BYWkZ4i3wgv4"
      }
    },
    {
      "cell_type": "markdown",
      "source": "#### **video_duration_sec**\n\nCreate a box plot to examine the spread of values in the `video_duration_sec` column.",
      "metadata": {
        "id": "zxNu3SYf60OA"
      }
    },
    {
      "cell_type": "code",
      "source": "# Create a boxplot to visualize distribution of `video_duration_sec`\nplt.figure(figsize = (5,1)\nsns.boxplot(data=df,\n           x = 'video_duration_sec')\nplt.title('Video Duration Boxplot')\nplt.xlabel('Video Duration')\nplt.show",
      "metadata": {
        "id": "Ts_lcV6qUQHq",
        "trusted": true
      },
      "execution_count": null,
      "outputs": []
    },
    {
      "cell_type": "markdown",
      "source": "Create a histogram of the values in the `video_duration_sec` column to further explore the distribution of this variable.",
      "metadata": {
        "id": "Kjwc7aGi7C63"
      }
    },
    {
      "cell_type": "code",
      "source": "# Create a histogram\ndf['video_duration_sec'].value_counts()\nplt.figure(figsize=(10,6))\nax = sns.histplot(data = df,\n            x = 'video_duration_sec',\n            bins = range(5,66,5))\nax.set_xticks(range(5,66,5))\nplt.title('Video Duration Histogram')\nplt.xlabel('Video Duration As Second')\nplt.show",
      "metadata": {
        "id": "0zaJF_yU7UCp",
        "trusted": true
      },
      "execution_count": null,
      "outputs": []
    },
    {
      "cell_type": "markdown",
      "source": "#### **video_view_count**\n\nCreate a box plot to examine the spread of values in the `video_view_count` column.",
      "metadata": {
        "id": "QWM6LLlE7iMY"
      }
    },
    {
      "cell_type": "code",
      "source": "# Create a boxplot to visualize distribution of `video_view_count`\nsns.boxplot(data=df,\n           x='video_view_count')\nplt.title('Vide View Count Boxplot')\nplt.xlabel('Video View Count')\nplt.show",
      "metadata": {
        "id": "qlUccI91a4NH",
        "trusted": true
      },
      "execution_count": null,
      "outputs": []
    },
    {
      "cell_type": "markdown",
      "source": "Create a histogram of the values in the `video_view_count` column to further explore the distribution of this variable.",
      "metadata": {
        "id": "yiMaq0Mr7jg1"
      }
    },
    {
      "cell_type": "code",
      "source": "# Create a histogram\nsns.histplot(data = df,\n            x = 'video_view_count',\n            bins = range(0,10**6+1,10**5))\nplt.xlabel('Video View Count')\nplt.title('Video View Count Histogram')\nplt.show",
      "metadata": {
        "id": "qpm2TdwB7j61",
        "trusted": true
      },
      "execution_count": null,
      "outputs": []
    },
    {
      "cell_type": "markdown",
      "source": "#### **video_like_count**\n\nCreate a box plot to examine the spread of values in the `video_like_count` column.",
      "metadata": {
        "id": "NIh6KV2X77BA"
      }
    },
    {
      "cell_type": "code",
      "source": "# Create a boxplot to visualize distribution of `video_like_count`\nsns.boxplot(x = df[\"video_like_count\"])\nplt.title('Video Like Count Boxplot')\nplt.xlabel('Video Like Count')\nplt.show",
      "metadata": {
        "id": "N0UVdeRUzEEF",
        "trusted": true
      },
      "execution_count": null,
      "outputs": []
    },
    {
      "cell_type": "markdown",
      "source": "Create a histogram of the values in the `video_like_count` column to further explore the distribution of this variable.",
      "metadata": {
        "id": "-jV2GDg_78ae"
      }
    },
    {
      "cell_type": "code",
      "source": "# Create a histogram\nplt.figure(figsize=(10,6))\nsns.histplot(x= df['video_like_count'],\n            bins = range(0,7*10**5+1,10**5))\nplt.xlabel('Video Like Count')\nplt.title('Video Like Count Histogram')\nplt.show",
      "metadata": {
        "id": "udOrLA5b79MV",
        "trusted": true
      },
      "execution_count": null,
      "outputs": []
    },
    {
      "cell_type": "markdown",
      "source": "#### **video_comment_count**\n\nCreate a box plot to examine the spread of values in the `video_comment_count` column.",
      "metadata": {
        "id": "rJ23hEvE8HK5"
      }
    },
    {
      "cell_type": "code",
      "source": "# Create a boxplot to visualize distribution of `video_comment_count`\nplt.figure(figsize=(10,1))\nsns.boxplot(df['video_comment_count'])\nplt.title('Video Comment Count Boxplot')\nplt.xlabel('Video Comment Count')\nplt.show",
      "metadata": {
        "id": "-gE1fkGo0eG9",
        "trusted": true
      },
      "execution_count": null,
      "outputs": []
    },
    {
      "cell_type": "markdown",
      "source": "Create a histogram of the values in the `video_comment_count` column to further explore the distribution of this variable.",
      "metadata": {
        "id": "ztXyeXEA8H0d"
      }
    },
    {
      "cell_type": "code",
      "source": "# Create a histogram\nplt.figure(figsize=(10,5))\nsns.histplot(df['video_comment_count'],\n            bins = range(0,10**4+1,10**3))\nplt.xlabel('Vide Comment Count')\nplt.title('Video Comment Count Histogram')\nplt.show",
      "metadata": {
        "id": "pQsVds2G8IYx",
        "trusted": true
      },
      "execution_count": null,
      "outputs": []
    },
    {
      "cell_type": "markdown",
      "source": "#### **video_share_count**\n\nCreate a box plot to examine the spread of values in the `video_share_count` column.",
      "metadata": {
        "id": "QnWnT6ZK83wv"
      }
    },
    {
      "cell_type": "code",
      "source": "# Create a boxplot to visualize distribution of `video_share_count`\nsns.boxplot(df['video_share_count'])\nplt.xlabel('Video Share Count')\nplt.title(\"Video Share Count Boxplot\")\nplt.show",
      "metadata": {
        "id": "VGdU83TL88gZ",
        "trusted": true
      },
      "execution_count": null,
      "outputs": []
    },
    {
      "cell_type": "markdown",
      "source": "*Create* a histogram of the values in the `video_share_count` column to further explore the distribution of this variable.",
      "metadata": {
        "id": "8-T74RQ8888t"
      }
    },
    {
      "cell_type": "code",
      "source": "# Create a histogram\nplt.figure(figsize=(10,5))\nsns.histplot(df['video_share_count'],\n            bins = range(0,27*10**4,10**4))\nplt.xlabel('Video Share Count')\nplt.title('Video Share Count Histogram')\nplt.show",
      "metadata": {
        "id": "_jusEWSJ89co",
        "trusted": true
      },
      "execution_count": null,
      "outputs": []
    },
    {
      "cell_type": "markdown",
      "source": "#### **video_download_count**\n\nCreate a box plot to examine the spread of values in the `video_download_count` column.",
      "metadata": {
        "id": "ZDh2nxtC9ems"
      }
    },
    {
      "cell_type": "code",
      "source": "# Create a boxplot to visualize distribution of `video_download_count`\nsns.boxplot(df['video_download_count'])\nplt.xlabel('Video Download Count')\nplt.title('Video Download Count Boxplot')\nplt.show",
      "metadata": {
        "id": "CVILyJYB9fUe",
        "trusted": true
      },
      "execution_count": null,
      "outputs": []
    },
    {
      "cell_type": "markdown",
      "source": "Create a histogram of the values in the `video_download_count` column to further explore the distribution of this variable.",
      "metadata": {
        "id": "oVAlHAVY9fvC"
      }
    },
    {
      "cell_type": "code",
      "source": "# Create a histogram\nplt.figure(figsize = (10,5))\nsns.histplot(df['video_download_count'],\n            bins = range(0,16*10**3+1,10**3))\nplt.xlabel('Video Download Count')\nplt.title('Video Download Count Histogram')\nplt.show",
      "metadata": {
        "id": "R9QBYK3g9gVu",
        "trusted": true
      },
      "execution_count": null,
      "outputs": []
    },
    {
      "cell_type": "markdown",
      "source": "#### **Claim status by verification status**\n\nNow, create a histogram with four bars: one for each combination of claim status and verification status.",
      "metadata": {
        "id": "rJc1VcpN-ZRr"
      }
    },
    {
      "cell_type": "code",
      "source": "# Create a histogram\nplt.figure(figsize=(10,6))\nsns.histplot(data = df,\n            x = 'claim_status',\n            hue = 'verified_status',\n            multiple = 'dodge',\n            shrink = 0.8)\nplt.xlabel('Claim Status')\nplt.title('Claims By Verified Status Histogram')\nplt.show",
      "metadata": {
        "id": "eTsTPNMK-chP",
        "trusted": true
      },
      "execution_count": null,
      "outputs": []
    },
    {
      "cell_type": "markdown",
      "source": "#### **Claim status by author ban status**\n\nThe previous course used a `groupby()` statement to examine the count of each claim status for each author ban status. Now, use a histogram to communicate the same information.",
      "metadata": {
        "id": "iEiA_ARk_Nxd"
      }
    },
    {
      "cell_type": "code",
      "source": "# Create a histogram\nplt.figure(figsize=(10,6))\nsns.histplot(data = df,\n            x = 'claim_status',\n            hue = 'author_ban_status',\n            multiple = 'dodge',\n            hue_order = ['active', 'under review','banned'],\n            shrink = 0.8)\nplt.xlabel('Claim Status')\nplt.title('Claims By Author Ban Status Histogram')\nplt.show",
      "metadata": {
        "id": "IZHdWGPx_Olx",
        "trusted": true
      },
      "execution_count": null,
      "outputs": []
    },
    {
      "cell_type": "markdown",
      "source": "#### **Median view counts by ban status**\n\nCreate a bar plot with three bars: one for each author ban status. The height of each bar should correspond with the median number of views for all videos with that author ban status.",
      "metadata": {
        "id": "_uAmAERs_Z9j"
      }
    },
    {
      "cell_type": "code",
      "source": "# Create a bar plot\nmedian_view_count = df.groupby('author_ban_status')[['video_view_count']].median().reset_index()\nmedian_view_count\n\nplt.figure(figsize = (10,6))\nsns.barplot(data = median_view_count,\n           x = 'author_ban_status',\n           y = 'video_view_count',\n           order = ['active', 'under review', 'banned'])\nplt.title('Median View Count By Author Ban Status')\nplt.xlabel('Author Ban Status')\nplt.ylabel('Median Video View')",
      "metadata": {
        "id": "c7xVuf5O_asQ",
        "trusted": true
      },
      "execution_count": null,
      "outputs": []
    },
    {
      "cell_type": "code",
      "source": "# Calculate the median view count for claim status.\nmedian_view_count_claim = df.groupby('claim_status')[['video_view_count']].median().reset_index()\nmedian_view_count_claim",
      "metadata": {
        "id": "eFNVhyYQhSL0",
        "trusted": true
      },
      "execution_count": null,
      "outputs": []
    },
    {
      "cell_type": "markdown",
      "source": "#### **Total views by claim status**\n\nCreate a pie graph that depicts the proportions of total views for claim videos and total views for opinion videos.",
      "metadata": {
        "id": "2FjUxqMd_71P"
      }
    },
    {
      "cell_type": "code",
      "source": "# Create a pie graph\n### YOUR CODE HERE ###\ntotal_view_claim = df.groupby('claim_status')[['video_view_count']].sum()\n\nplt.pie(total_view_claim,\n       labels = ['Claim','Opinion'])\nplt.title('Total View By Claim Status Piechart')\nplt.show",
      "metadata": {
        "id": "aR0WS23aAD6J",
        "trusted": true
      },
      "execution_count": null,
      "outputs": []
    },
    {
      "cell_type": "markdown",
      "source": "### **Determine outliers**\n\nWhen building predictive models, the presence of outliers can be problematic. \n\nA common way to determine outliers in a normal distribution is to calculate the interquartile range (IQR) and set a threshold that is 1.5 * IQR above the 3rd quartile.\n\nIn this TikTok dataset, the values for the count variables are not normally distributed. They are heavily skewed to the right. One way of modifying the outlier threshold is by calculating the **median** value for each variable and then adding 1.5 * IQR. This results in a threshold that is, in this case, much lower than it would be if you used the 3rd quartile.\n\nWrite a for loop that iterates over the column names of each count variable. For each iteration:\n1. Calculate the IQR of the column\n2. Calculate the median of the column\n3. Calculate the outlier threshold (median + 1.5 * IQR)\n4. Calculate the numer of videos with a count in that column that exceeds the outlier threshold\n5. Print \"Number of outliers, {column name}: {outlier count}\"",
      "metadata": {
        "id": "H-rVzm6MAcuc"
      }
    },
    {
      "cell_type": "code",
      "source": "count_cols = ['video_view_count',\n              'video_like_count',\n              'video_share_count',\n              'video_download_count',\n              'video_comment_count',\n              ]\n\nfor i in count_cols:\n    q1 = df[i].quantile(0.25)\n    q3 = df[i].quantile(0.75)\n    iqr = q3 - q1\n    median = df[i].median()\n    outlier_threshold = median + 1.5*iqr\n\n    # Count the number of values that exceed the outlier threshold\n    outlier_count = (df[i] > outlier_threshold).sum()\n    print(f'Number of outliers, {i}:', outlier_count)",
      "metadata": {
        "id": "lBDtA-fjA-2B",
        "trusted": true
      },
      "execution_count": null,
      "outputs": []
    },
    {
      "cell_type": "markdown",
      "source": "#### **Scatterplot**",
      "metadata": {
        "id": "E_jdFb9pBIRT"
      }
    },
    {
      "cell_type": "code",
      "source": "# Create a scatterplot of `video_view_count` versus `video_like_count` according to 'claim_status'\nsns.scatterplot(data = df,\n                x = 'video_view_count',\n                y = 'video_like_count',\n               hue = 'claim_status',\n               alpha = .3,\n               s = 10)\nplt.xlabel('Video View Count')\nplt.ylabel('Video Like Count')\nplt.title('Video View And Like Count By Claim Status Scatterplot ')\nplt.show\n",
      "metadata": {
        "id": "m70a9DMUBJUA",
        "trusted": true
      },
      "execution_count": null,
      "outputs": []
    },
    {
      "cell_type": "code",
      "source": "# Create a scatterplot of ``video_view_count` versus `video_like_count` for opinions only\ndf_opinion = df[df['claim_status'] == 'opinion']\n\nsns.scatterplot(data = df_opinion,\n                x = 'video_view_count',\n                y = 'video_like_count',\n                alpha = .3,\n                s = 10)\nplt.xlabel('Video View Count')\nplt.ylabel('Video Like Count')\nplt.title('Video View And Like Count By Claim Status Scatterplot ')\nplt.show\n\n",
      "metadata": {
        "id": "NxyaaJojBRhu",
        "trusted": true
      },
      "execution_count": null,
      "outputs": []
    },
    {
      "cell_type": "markdown",
      "source": "You can do a scatterplot in Tableau Public as well, which can be easier to manipulate and present. If you'd like step by step instructions, you can review the instructions linked in the previous Activity page.",
      "metadata": {
        "id": "z8n8HqJmBe3L"
      }
    }
  ]
}